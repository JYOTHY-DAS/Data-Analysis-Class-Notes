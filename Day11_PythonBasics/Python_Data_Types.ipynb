{
 "cells": [
  {
   "cell_type": "code",
   "execution_count": 34,
   "id": "d5f4c527-e4c3-4171-b543-00edf72db1d6",
   "metadata": {},
   "outputs": [
    {
     "data": {
      "text/plain": [
       "'\\nThis is a multi-line comment.\\nIt spans multiple lines.\\nYou can use it for long explanations or notes.\\n'"
      ]
     },
     "execution_count": 34,
     "metadata": {},
     "output_type": "execute_result"
    }
   ],
   "source": []
  },
  {
   "cell_type": "code",
   "execution_count": 40,
   "id": "0a174143-71ba-4ff2-a23c-72339eb547b5",
   "metadata": {},
   "outputs": [
    {
     "name": "stdout",
     "output_type": "stream",
     "text": [
      "42\n",
      "52\n"
     ]
    }
   ],
   "source": [
    "'''\n",
    "This is a multi-line comment.\n",
    "It spans multiple lines.\n",
    "You can use it for long explanations or notes.\n",
    "'''\n",
    "# 1. Integer\n",
    "# Integer is a whole number, positive or negative, without decimals.\n",
    "integer_example = 42\n",
    "print(integer_example)\n",
    "print(52)"
   ]
  },
  {
   "cell_type": "code",
   "execution_count": 42,
   "id": "94e49c74-ee19-415f-88b4-8478136f7075",
   "metadata": {},
   "outputs": [
    {
     "name": "stdout",
     "output_type": "stream",
     "text": [
      "3.14\n"
     ]
    }
   ],
   "source": [
    "# 2. Float\n",
    "# Float is a number that has a decimal point.\n",
    "float_example = 3.14\n",
    "print(float_example)\n"
   ]
  },
  {
   "cell_type": "code",
   "execution_count": 44,
   "id": "fc3e18f5-3d9a-49a2-9d41-a2183a118cdd",
   "metadata": {},
   "outputs": [
    {
     "name": "stdout",
     "output_type": "stream",
     "text": [
      "Hello, Jyothy!\n",
      "42\n",
      "<class 'str'>\n",
      "Welcome to the world of Python\n",
      "52\n"
     ]
    }
   ],
   "source": [
    "# 3. String\n",
    "# String is a sequence of characters enclosed in single or double quotes.\n",
    "# Immutable\n",
    "string_example1 = \"Hello, Jyothy!\"\n",
    "string_example2 ='42'\n",
    "print(string_example1)\n",
    "print(string_example2)\n",
    "print(type(string_example2))\n",
    "# Print without using a variable\n",
    "print(\"Welcome to the world of Python\") # Within inverted comma\n",
    "print(\"52\") # Within inverted comma"
   ]
  },
  {
   "cell_type": "code",
   "execution_count": 58,
   "id": "5240624e-5968-4ab5-a98e-53cb672466fa",
   "metadata": {},
   "outputs": [
    {
     "name": "stdout",
     "output_type": "stream",
     "text": [
      "True\n",
      "True\n",
      "<class 'bool'>\n",
      "<class 'bool'>\n",
      "<class 'bool'>\n"
     ]
    }
   ],
   "source": [
    "# 4. Boolean\n",
    "# Boolean type represents True or False values.\n",
    "boolean_example = True\n",
    "\n",
    "print(boolean_example)\n",
    "print(5>2)\n",
    "\n",
    "print(type(boolean_example))\n",
    "print(type(True)) # First letter should be capital\n",
    "#print(type(true)) Will show error because first letter is not capital.\n",
    "print(type((5>2))) "
   ]
  },
  {
   "cell_type": "code",
   "execution_count": 11,
   "id": "932ff466-d2e3-4985-a128-031815b3751c",
   "metadata": {},
   "outputs": [
    {
     "name": "stdout",
     "output_type": "stream",
     "text": [
      "[1, 2, 3, 'Python', 3.14]\n"
     ]
    }
   ],
   "source": [
    "# 5. List\n",
    "# List is an ordered collection of items, which can be of different data types.\n",
    "# Mutable\n",
    "list_example = [1, 2, 3, \"Python\", 3.14]\n",
    "print(list_example)\n"
   ]
  },
  {
   "cell_type": "code",
   "execution_count": 13,
   "id": "8e317872-d441-4960-88de-b65b1cfecc51",
   "metadata": {},
   "outputs": [
    {
     "name": "stdout",
     "output_type": "stream",
     "text": [
      "(1, 2, 3, 'Python')\n"
     ]
    }
   ],
   "source": [
    "# 6. Tuple\n",
    "# Tuple is similar to a list but is immutable (cannot be changed).\n",
    "# Immutable\n",
    "tuple_example = (1, 2, 3, \"Python\")\n",
    "print(tuple_example)"
   ]
  },
  {
   "cell_type": "code",
   "execution_count": 15,
   "id": "2e695c46-9601-4790-bdcb-bffa1d481839",
   "metadata": {},
   "outputs": [
    {
     "name": "stdout",
     "output_type": "stream",
     "text": [
      "{1, 2, 3, 4, 5}\n"
     ]
    }
   ],
   "source": [
    "# 7. Set\n",
    "# Set is an unordered collection of unique elements.\n",
    "# Mutable\n",
    "set_example = {1, 2, 3, 4, 5}\n",
    "print(set_example)"
   ]
  },
  {
   "cell_type": "code",
   "execution_count": 17,
   "id": "4e61b973-b7fc-407b-9fbb-b945ffa9eb41",
   "metadata": {},
   "outputs": [
    {
     "name": "stdout",
     "output_type": "stream",
     "text": [
      "{'name': 'John', 'age': 30}\n"
     ]
    }
   ],
   "source": [
    "# 8. Dictionary\n",
    "# Dictionary is an unordered collection of key-value pairs.\n",
    "# Mutable\n",
    "dictionary_example = {\"name\": \"John\", \"age\": 30}\n",
    "print(dictionary_example)"
   ]
  },
  {
   "cell_type": "code",
   "execution_count": 19,
   "id": "013bcc47-41e5-4b2b-9c7c-b81f63e5b344",
   "metadata": {},
   "outputs": [
    {
     "name": "stdout",
     "output_type": "stream",
     "text": [
      "None\n"
     ]
    }
   ],
   "source": [
    "# 9. None\n",
    "# None represents the absence of a value or a null value.\n",
    "none_example = None\n",
    "print(none_example)"
   ]
  },
  {
   "cell_type": "code",
   "execution_count": 21,
   "id": "d2a1c237-ca1d-4915-94de-87217d396aa6",
   "metadata": {},
   "outputs": [
    {
     "name": "stdout",
     "output_type": "stream",
     "text": [
      "(3+4j)\n"
     ]
    }
   ],
   "source": [
    "# 10. Complex Number\n",
    "# Complex numbers are numbers with both a real and an imaginary part.\n",
    "complex_example = 3 + 4j\n",
    "print(complex_example)"
   ]
  }
 ],
 "metadata": {
  "kernelspec": {
   "display_name": "Python 3 (ipykernel)",
   "language": "python",
   "name": "python3"
  },
  "language_info": {
   "codemirror_mode": {
    "name": "ipython",
    "version": 3
   },
   "file_extension": ".py",
   "mimetype": "text/x-python",
   "name": "python",
   "nbconvert_exporter": "python",
   "pygments_lexer": "ipython3",
   "version": "3.12.7"
  }
 },
 "nbformat": 4,
 "nbformat_minor": 5
}

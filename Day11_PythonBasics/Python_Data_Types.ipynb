{
 "cells": [
  {
   "cell_type": "code",
   "execution_count": null,
   "id": "0a174143-71ba-4ff2-a23c-72339eb547b5",
   "metadata": {},
   "outputs": [],
   "source": [
    "# Python Data Types\n",
    "\n",
    "# 1. Integer\n",
    "# Integer is a whole number, positive or negative, without decimals.\n",
    "integer_example = 42\n",
    "print(f\"Integer Example: {integer_example} (Type: {type(integer_example)}), Mutable: No\")"
   ]
  },
  {
   "cell_type": "code",
   "execution_count": null,
   "id": "94e49c74-ee19-415f-88b4-8478136f7075",
   "metadata": {},
   "outputs": [],
   "source": [
    "# 2. Float\n",
    "# Float is a number that has a decimal point.\n",
    "float_example = 3.14\n",
    "print(f\"Float Example: {float_example} (Type: {type(float_example)}), Mutable: No\")\n"
   ]
  },
  {
   "cell_type": "code",
   "execution_count": null,
   "id": "fc3e18f5-3d9a-49a2-9d41-a2183a118cdd",
   "metadata": {},
   "outputs": [],
   "source": [
    "# 3. String\n",
    "# String is a sequence of characters enclosed in single or double quotes.\n",
    "# Immutable\n",
    "string_example = \"Hello, Python!\"\n",
    "print(f\"String Example: {string_example} (Type: {type(string_example)}), Mutable: No\")"
   ]
  },
  {
   "cell_type": "code",
   "execution_count": null,
   "id": "5240624e-5968-4ab5-a98e-53cb672466fa",
   "metadata": {},
   "outputs": [],
   "source": [
    "# 4. Boolean\n",
    "# Boolean type represents True or False values.\n",
    "boolean_example = True\n",
    "print(f\"Boolean Example: {boolean_example} (Type: {type(boolean_example)}), Mutable: No\")"
   ]
  },
  {
   "cell_type": "code",
   "execution_count": null,
   "id": "932ff466-d2e3-4985-a128-031815b3751c",
   "metadata": {},
   "outputs": [],
   "source": [
    "# 5. List\n",
    "# List is an ordered collection of items, which can be of different data types.\n",
    "# Mutable\n",
    "list_example = [1, 2, 3, \"Python\", 3.14]\n",
    "print(f\"List Example: {list_example} (Type: {type(list_example)}), Mutable: Yes\")\n"
   ]
  },
  {
   "cell_type": "code",
   "execution_count": null,
   "id": "8e317872-d441-4960-88de-b65b1cfecc51",
   "metadata": {},
   "outputs": [],
   "source": [
    "# 6. Tuple\n",
    "# Tuple is similar to a list but is immutable (cannot be changed).\n",
    "# Immutable\n",
    "tuple_example = (1, 2, 3, \"Python\")\n",
    "print(f\"Tuple Example: {tuple_example} (Type: {type(tuple_example)}), Mutable: No\")"
   ]
  },
  {
   "cell_type": "code",
   "execution_count": null,
   "id": "2e695c46-9601-4790-bdcb-bffa1d481839",
   "metadata": {},
   "outputs": [],
   "source": [
    "# 7. Set\n",
    "# Set is an unordered collection of unique elements.\n",
    "# Mutable\n",
    "set_example = {1, 2, 3, 4, 5}\n",
    "print(f\"Set Example: {set_example} (Type: {type(set_example)}), Mutable: Yes\")"
   ]
  },
  {
   "cell_type": "code",
   "execution_count": null,
   "id": "4e61b973-b7fc-407b-9fbb-b945ffa9eb41",
   "metadata": {},
   "outputs": [],
   "source": [
    "# 8. Dictionary\n",
    "# Dictionary is an unordered collection of key-value pairs.\n",
    "# Mutable\n",
    "dictionary_example = {\"name\": \"John\", \"age\": 30}\n",
    "print(f\"Dictionary Example: {dictionary_example} (Type: {type(dictionary_example)}), Mutable: Yes\")"
   ]
  },
  {
   "cell_type": "code",
   "execution_count": null,
   "id": "013bcc47-41e5-4b2b-9c7c-b81f63e5b344",
   "metadata": {},
   "outputs": [],
   "source": [
    "# 9. None\n",
    "# None represents the absence of a value or a null value.\n",
    "none_example = None\n",
    "print(f\"None Example: {none_example} (Type: {type(none_example)}), Mutable: No\")"
   ]
  },
  {
   "cell_type": "code",
   "execution_count": null,
   "id": "d2a1c237-ca1d-4915-94de-87217d396aa6",
   "metadata": {},
   "outputs": [],
   "source": [
    "# 10. Complex Number\n",
    "# Complex numbers are numbers with both a real and an imaginary part.\n",
    "complex_example = 3 + 4j\n",
    "print(f\"Complex Number Example: {complex_example} (Type: {type(complex_example)}), Mutable: No\")"
   ]
  }
 ],
 "metadata": {
  "kernelspec": {
   "display_name": "Python 3 (ipykernel)",
   "language": "python",
   "name": "python3"
  },
  "language_info": {
   "codemirror_mode": {
    "name": "ipython",
    "version": 3
   },
   "file_extension": ".py",
   "mimetype": "text/x-python",
   "name": "python",
   "nbconvert_exporter": "python",
   "pygments_lexer": "ipython3",
   "version": "3.12.7"
  }
 },
 "nbformat": 4,
 "nbformat_minor": 5
}
